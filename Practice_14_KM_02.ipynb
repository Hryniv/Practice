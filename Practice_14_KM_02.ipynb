{
  "nbformat": 4,
  "nbformat_minor": 0,
  "metadata": {
    "colab": {
      "name": "Practice_14_KM_01.ipynb",
      "provenance": [],
      "collapsed_sections": []
    },
    "kernelspec": {
      "name": "python3",
      "display_name": "Python 3.8.5 64-bit",
      "metadata": {
        "interpreter": {
          "hash": "7d5c25a0dcd433e9174dbd40cc8162c4c651cca147fa234e40a811528338fdfd"
        }
      }
    }
  },
  "cells": [
    {
      "cell_type": "markdown",
      "metadata": {
        "id": "FMqboNwO4rVs"
      },
      "source": [
        "# **Курс \"Програмування на мові Python\"**\n",
        "\n",
        "##### Викладачі:\n",
        "##### Борисенко Павло Борисович\n",
        "##### Щьоголєв Максим Олегович\n"
      ]
    },
    {
      "cell_type": "markdown",
      "metadata": {
        "id": "A2T6MigL5Z06"
      },
      "source": [
        "## **Практичне зайняття №14**\n",
        "\n",
        "### Тема: \"Робота з файлами\""
      ]
    },
    {
      "cell_type": "markdown",
      "metadata": {
        "id": "cfCdgK2zXm7e"
      },
      "source": [
        "### **Завдання 1 (1,5 бали)**\n",
        "\n",
        "У 1939 році друком вийшов роман американського письменика Ернеста Вінсента Райта \"Ґедсбі\". Особливу увагу публіки він здобув через те, що письменник жодного разу не використав у романі літеру \"e\" (роман складається з більше ніж 50,000 слів), яка є найбільш вживаною літерою в англійській мові.\n",
        "\n",
        "Порахуйте кількість входжень кожної літери у текст роману. Виведіть список літер англійського алфавіту, а також інформацію про те, скільки відсотків від усіх літер тексту складає кожна літера алфавіту.\n",
        "\n",
        "Зауваження:\n",
        "\n",
        "1. Програма має ігнорувати будь-які символи, окрім літер.\n",
        "\n",
        "2. Переведіть усі літери у верхній або у нижній регістр.\n",
        "\n",
        "3. Під час виведення відсортуйте літери у порядку зменшення їхнього відсотка. Літера \"e\" має стояти на останньому місці у цьому списку.\n",
        "\n",
        "4. Виведіть перші 5 та останні 5 літер відсортованого списку разом з відсотковими значеннями, що їм відповідають."
      ]
    },
    {
      "cell_type": "code",
      "metadata": {
        "tags": [],
        "id": "u4-fHJJ6U462"
      },
      "source": [
        "import re\n",
        "file = open('gadsby.txt', 'r+')\n",
        "t = [line.lower() for line in file]\n",
        "res = []\n",
        "suma = 0\n",
        "for el in t:\n",
        "    for i in el:\n",
        "        if i.isalpha()== True:\n",
        "            suma+=1\n",
        "            res.append(i)\n",
        "abc = [\"a\", \"b\", \"c\", \"d\", \"e\", \"f\", \"g\", \"h\", \"i\", \"j\", \"k\", \"l\", \"m\", \"n\", \"o\", \"p\",\"q\", \"r\", \"s\", \"t\", \"u\", \"v\", \"w\", \"x\", \"y\", \"z\"]\n",
        "def poshuk(zminna):\n",
        "    count = 0\n",
        "    for i in res:\n",
        "        if i == zminna:\n",
        "            count+=1\n",
        "    return count\n",
        "\n",
        "\n",
        "for i in range(0,26):\n",
        "    a = poshuk(abc[i])\n",
        "    a = (a/suma)*100\n",
        "    a = round(a, 2)\n",
        "    print(abc[i], '=', a, '%')\n",
        "\n",
        "\n",
        "\n",
        "\n",
        "\n"
      ],
      "execution_count": 14,
      "outputs": [
        {
          "output_type": "stream",
          "name": "stdout",
          "text": [
            "a = 10.89 %\n",
            "b = 2.13 %\n",
            "c = 2.67 %\n",
            "d = 4.11 %\n",
            "e = 0.23 %\n",
            "f = 2.15 %\n",
            "g = 3.57 %\n",
            "h = 4.92 %\n",
            "i = 8.79 %\n",
            "j = 0.22 %\n",
            "k = 1.17 %\n",
            "l = 5.29 %\n",
            "m = 2.09 %\n",
            "n = 8.56 %\n",
            "o = 10.37 %\n",
            "p = 1.91 %\n",
            "q = 0.05 %\n",
            "r = 4.79 %\n",
            "s = 6.96 %\n",
            "t = 8.53 %\n",
            "u = 4.13 %\n",
            "v = 0.34 %\n",
            "w = 2.79 %\n",
            "x = 0.08 %\n",
            "y = 3.17 %\n",
            "z = 0.11 %\n"
          ]
        }
      ]
    },
    {
      "cell_type": "markdown",
      "metadata": {
        "id": "A34oz70eU463"
      },
      "source": [
        "### **Завдання 2 (1,5 бали)**\n",
        "\n",
        "Створіть CSV-файл, що буде містити від 5 до 10 пісень (творів) вашого улюбленого музиканта. Назва файлу - ім'я музиканта (композитора) або назва гурту.\n",
        "\n",
        "1. Обов'язково додайте до файлу рядок з назвами двох колонок (Song, Year) або (Composition, Year).\n",
        "\n",
        "2. Після запису файлу роздрукуйте назву файлу та усі наявні у файлі рядки (включно із заголовками).\n",
        "\n",
        "3. Для запису та зчитування рядків скористайтесь функціями csv.DictWriter() та csv.DictReader()."
      ]
    },
    {
      "cell_type": "code",
      "metadata": {
        "id": "MEJIrG1GU463"
      },
      "source": [
        "import csv\n",
        "\n",
        "\n",
        "with open(\"Joji.csv\", 'w', newline='') as csvfile:\n",
        "    fieldnames = [\"Song\", 'Year']\n",
        "    writer = csv.DictWriter(csvfile, fieldnames=fieldnames)\n",
        "    writer.writeheader()\n",
        "    writer.writerow({\"Song\": \"Gimme love\",\n",
        "                     'Year': '2020'})\n",
        "    writer.writerow({\"Song\": \"Slow dancing in the dark\",\n",
        "                     'Year': '2018'})\n",
        "    writer.writerow({\"Song\": \"Run\",\n",
        "                     'Year': '2020'})\n",
        "    writer.writerow({\"Song\": \"Your man\",\n",
        "                     'Year': '2020'})\n",
        "    writer.writerow({\"Song\": \"Upgrade\",\n",
        "                     'Year': '2020'})\n",
        "    writer.writerow({\"Song\": \"Modus\",\n",
        "                     'Year': '2020'})\n",
        "    writer.writerow({\"Song\": \"Sanctuary\",\n",
        "                     'Year': '2019'})\n",
        "    writer.writerow({\"Song\": \"Ew\",\n",
        "                     'Year': '2020'})\n",
        "    writer.writerow({\"Song\": \"High hopes\",\n",
        "                     'Year': '2020'})\n",
        "    writer.writerow({\"Song\": \"Nitrous\",\n",
        "                     'Year': '2020'})\n",
        "\n",
        "with open(\"Joji.csv\", 'r') as f:\n",
        "    reader = csv.DictReader(f)\n",
        "    print(fieldnames)\n",
        "    for row in reader:\n",
        "        print(row)\n",
        "print(\"Well done\")"
      ],
      "execution_count": 25,
      "outputs": [
        {
          "output_type": "stream",
          "name": "stdout",
          "text": [
            "['Song', 'Year']\n{'Song': 'Gimme love', 'Year': '2020'}\n{'Song': 'Slow dancing in the dark', 'Year': '2018'}\n{'Song': 'Run', 'Year': '2020'}\n{'Song': 'Your man', 'Year': '2020'}\n{'Song': 'Upgrade', 'Year': '2020'}\n{'Song': 'Modus', 'Year': '2020'}\n{'Song': 'Sanctuary', 'Year': '2019'}\n{'Song': 'Ew', 'Year': '2020'}\n{'Song': 'High hopes', 'Year': '2020'}\n{'Song': 'Nitrous', 'Year': '2020'}\nWell done\n"
          ]
        }
      ]
    },
    {
      "cell_type": "markdown",
      "metadata": {
        "id": "Jb-eSBsWU464"
      },
      "source": [
        "### **Завдання 3 (бонусне, 1 бал)**\n",
        "\n",
        "COCO Dataset - набір фотографій та анотацій до них. Його дуже часто використовують для тренування класифікаторів, призначених для розпізнавання об'єктів та визначення ключових точок на зображеннях.\n",
        "\n",
        "Завантажте файли з описом фотографій COCO Dataset за посиланням: http://images.cocodataset.org/annotations/image_info_test2017.zip\n",
        "\n",
        "1. Відкрийте файл image_info_test-dev2017.json. Інформація про фотографії з бази COCO міститься у полі \"images\". Інформація про категорії, на які розділені всі фотографії, міститься у полі \"categories\".\n",
        "\n",
        "2. Визначте кількість фотографій, інформацію про які можна знайти у цьому файлі (кількість елементів, що відповідають ключу \"images\").\n",
        "\n",
        "3. Визначте кількість наявних категорій (кількість елементів, що відповідають ключу \"categories\").\n",
        "\n",
        "4. Виведіть посилання на фотографію 000000000001.jpg (\"coco_url\"), висоту цієї фотографії (\"height\"), ширину (\"width\") та її ідентифікатор (\"id\").\n",
        "\n",
        "5. Опис структури JSON-файлу для набору фотографій COCO можна знайти за посиланням: https://cocodataset.org/#format-data\n",
        "\n",
        "6. Щоб перевірити правильність результатів, у VS Code встановіть розширення JSON та відкрийте файл image_info_test-dev2017.json. Розширення автоматично визначає кількість елементів у кожному полі."
      ]
    },
    {
      "cell_type": "code",
      "metadata": {
        "id": "74C6WKB_U464"
      },
      "source": [],
      "execution_count": null,
      "outputs": []
    }
  ]
}